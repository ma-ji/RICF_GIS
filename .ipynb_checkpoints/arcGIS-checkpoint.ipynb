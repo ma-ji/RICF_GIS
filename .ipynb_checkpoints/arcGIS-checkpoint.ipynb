{
 "cells": [
  {
   "cell_type": "code",
   "execution_count": 2,
   "metadata": {
    "collapsed": false
   },
   "outputs": [
    {
     "name": "stdout",
     "output_type": "stream",
     "text": [
      "3344\n"
     ]
    }
   ],
   "source": [
    "import geocoder\n",
    "add_list = list(open('address'))\n",
    "print len(add_list)\n",
    "\n",
    "geo_file = open('geo_file','w')\n",
    "geo_file.write('LineID' + '\t' + 'OrignalAddress' + '\t' + 'NewAddress' + '\t' + 'Coordinates' + '\t' + 'City' + '\t' + 'State' + '\t' + 'Postal' + '\\n')"
   ]
  },
  {
   "cell_type": "code",
   "execution_count": 4,
   "metadata": {
    "collapsed": false,
    "scrolled": true
   },
   "outputs": [
    {
     "name": "stdout",
     "output_type": "stream",
     "text": [
      "0\n",
      "<[OK] Arcgis - Geocode [北京市朝阳区朝阳门外大街新6号]>\n",
      "<[OK] Google - Reverse [Jin Tong Xi Lu, GuoMao, Chaoyang Qu, Beijing Shi, China, 100020]>\n",
      "1\n",
      "<[OK] Arcgis - Geocode [北京市海淀区颐和园路5号北京大学镜春园75号北京大学教育基金会]>\n",
      "<[OK] Google - Reverse [Jing Chun Lu, Haidian Qu, Beijing Shi, China, 100871]>\n",
      "2\n",
      "<[OK] Arcgis - Geocode [北京市海淀区学院路37号]>\n",
      "<[OK] Google - Reverse [Xiao Yuan Zhong Lu, WuDaoKou, Haidian Qu, Beijing Shi, China, 100190]>\n",
      "3\n",
      "<[OK] Arcgis - Geocode [北京市海淀区上园村3号北京交通大学积秀园]>\n",
      "<[OK] Google - Reverse [15 Gao Liang Qiao Xie Jie, BeiXiaGuan, Haidian Qu, Beijing Shi, China]>\n",
      "4\n",
      "<[OK] Arcgis - Geocode [北京市海淀区中关村南大街5号]>\n",
      "<[OK] Google - Reverse [Xiao Yuan Zhong Lu, Haidian Qu, Beijing Shi, China, 100081]>\n",
      "5\n",
      "<[OK] Arcgis - Geocode [北京市海淀区中关村北一条15号]>\n",
      "<[OK] Google - Reverse [15 Zhong Guan Cun Bei Yi Tiao, Haidian Qu, Beijing Shi, China, 100190]>\n",
      "6\n",
      "<[OK] Arcgis - Geocode [北京市朝阳区定福庄东街定福庄东街]>\n",
      "<[OK] Google - Reverse [Jian Guo Lu, Chaoyang Qu, Beijing Shi, China, 100024]>\n",
      "7\n",
      "<[OK] Arcgis - Geocode [北京市西城区西长安街乙86号]>\n",
      "<[OK] Google - Reverse [64 Xi Chang An Jie, Xicheng Qu, Beijing Shi, China, 100031]>\n",
      "8\n",
      "<[OK] Arcgis - Geocode [北京市东城区东长安街12号]>\n",
      "<[OK] Google - Reverse [12 Dong Chang An Jie, DongDan, Dongcheng Qu, Beijing Shi, China, 100006]>\n",
      "9\n",
      "<[OK] Arcgis - Geocode [北京市东城区朝阳门北大街1号新保利大厦]>\n",
      "<[OK] Google - Reverse [Dong Men Cang Hu Tong, Dongcheng Qu, Beijing Shi, China, 100027]>\n",
      "10\n",
      "<[OK] Arcgis - Geocode [北京市东城区西总布胡同13号]>\n",
      "<[OK] Google - Reverse [13 Xi Zong Bu Hu Tong, DongDan, Dongcheng Qu, Beijing Shi, China, 100005]>\n",
      "11\n",
      "<[OK] Arcgis - Geocode [北京市西城区富国街2号]>\n",
      "<[OK] Google - Reverse [2 Fu Guo Jie, Xicheng Qu, Beijing Shi, China, 100034]>\n",
      "12\n",
      "<[OK] Arcgis - Geocode [广东省深圳市罗湖区深南东路5001号华润大厦]>\n",
      "<[OK] Google - Reverse [1025 Bao An Nan Lu, CaiWuWei, Luohu Qu, Shenzhen Shi, Guangdong Sheng, China, 518040]>\n",
      "13\n",
      "<[OK] Arcgis - Geocode [北京市西城区三里河路46号]>\n",
      "<[OK] Google - Reverse [San Li He Dong Fu Lu, Xicheng Qu, Beijing Shi, China]>\n",
      "14\n",
      "<[OK] Arcgis - Geocode [北京市海淀区中关村五道口清华大学南门成府路清华园三才堂小区]>\n",
      "<[OK] Google - Reverse [Zhong Guan Cun Bei Er Tiao, WuDaoKou, Haidian Qu, Beijing Shi, China, 100083]>\n",
      "15\n",
      "<[OK] Arcgis - Geocode [北京市朝阳区观音堂文化大道]>\n",
      "<[OK] Google - Reverse [99 Gao Bei Dian Lu, Chaoyang Qu, Beijing Shi, China]>\n",
      "16\n",
      "<[OK] Arcgis - Geocode [北京市西城区百万庄大街26号院-2号]>\n",
      "<[OK] Google - Reverse [28 Bai Wan Zhuang Da Jie, Xicheng Qu, Beijing Shi, China, 100037]>\n",
      "17\n",
      "<[OK] Arcgis - Geocode [北京市西城区后海北沿]>\n",
      "<[OK] Google - Reverse [27 Hou Hai Bei Yan, ShiChaHai, Xicheng Qu, Beijing Shi, China, 100009]>\n",
      "18\n",
      "<[OK] Arcgis - Geocode [北京市朝阳区朝阳门外大街甲6号万通中心C座2层3011室在河上湖北私房菜餐厅]>\n",
      "<[OK] Google - Reverse [Jing Hua Bei Jie, GuoMao, Chaoyang Qu, Beijing Shi, China, 100020]>\n",
      "19\n",
      "<[OK] Arcgis - Geocode [北京市西城区宣武门东河沿街69号]>\n",
      "<[OK] Google - Reverse [68号-74 Xiang Lu Ying Tou Tiao, Xicheng Qu, Beijing Shi, China, 100031]>\n",
      "20\n",
      "<[OK] Arcgis - Geocode [北京市海淀区中关村五道口清华大学南门成府路清华园三才堂小区三才堂小区]>\n",
      "<[OK] Google - Reverse [21 Zhong Guan Cun Dong Lu, WuDaoKou, Haidian Qu, Beijing Shi, China, 100083]>\n",
      "21\n",
      "<[OK] Arcgis - Geocode [北京市西城区月坛南街69-2号西华饭店]>\n",
      "<[OK] Google - Reverse [71 Yue Tan Nan Jie, Xicheng Qu, Beijing Shi, China, 100045]>\n",
      "22\n",
      "<[OK] Arcgis - Geocode [广东省深圳市宝安区广深路西乡段538号桃源大厦]>\n",
      "<[OK] Google - Reverse [197 Qian Jin Er Lu, Baoan Qu, Shenzhen Shi, Guangdong Sheng, China, 518126]>\n",
      "23\n",
      "<[OK] Arcgis - Geocode [北京市西城区复兴门内大街49号]>\n",
      "<[OK] Google - Reverse [51 Fu Xing Men Nei Da Jie, Xicheng Qu, Beijing Shi, China, 100032]>\n",
      "24\n",
      "<[OK] Arcgis - Geocode [北京市东城区细管胡同9号]>\n",
      "<[OK] Google - Reverse [9 Xi Guan Hu Tong, Dongcheng Qu, Beijing Shi, China, 100007]>\n",
      "25\n",
      "<[OK] Arcgis - Geocode [浙江省温州市永嘉县奥康工业园奥康集团有限公司(环城北路)]>\n",
      "<[OK] Google - Reverse [238号-250 Huan Cheng Bei Lu, Yongjia Xian, Wenzhou Shi, Zhejiang Sheng, China, 325100]>\n",
      "26\n",
      "<[OK] Arcgis - Geocode [北京市海淀区中关村东路1号院-7号威盛大厦]>\n",
      "<[OK] Google - Reverse [Xue Tang Lu, Haidian Qu, Beijing Shi, China, 100084]>\n",
      "27\n",
      "<[OK] Arcgis - Geocode [北京市朝阳区建国门外大街乙24号]>\n",
      "<[OK] Google - Reverse [78 Jian Guo Li Er Xiang, JianWai DaJie, Chaoyang Qu, Beijing Shi, China, 100022]>\n",
      "28\n",
      "<[OK] Arcgis - Geocode [北京市海淀区颐和园路5号北京大学燕南园]>\n",
      "<[OK] Google - Reverse [Jing Yuan Lu, Haidian Qu, Beijing Shi, China, 100871]>\n",
      "29\n",
      "<[OK] Arcgis - Geocode [广东省广州市番禺区迎宾路锦绣香江花园内锦绣香江俱乐部锦绣香江俱乐部停车场]>\n",
      "<[OK] Google - Reverse [Han Xi Da Dao Dong, Panyu Qu, Guangzhou Shi, Guangdong Sheng, China]>\n",
      "30\n",
      "<[OK] Arcgis - Geocode [北京市海淀区中关村东路1号院清华科技园]>\n",
      "<[OK] Google - Reverse [1 Zhong Guan Cun Dong Lu, Haidian Qu, Beijing Shi, China, 100084]>\n",
      "31\n",
      "<[OK] Arcgis - Geocode [北京市朝阳区新源南路6号京城大厦]>\n",
      "<[OK] Google - Reverse [93号-101 Xin Yuan Jie, Chaoyang Qu, Beijing Shi, China, 100600]>\n",
      "32\n",
      "<[OK] Arcgis - Geocode [北京市朝阳区华威桥潘家园桥附近潘家园南里]>\n",
      "<[OK] Google - Reverse [39 Hua Wei Nan Lu, Chaoyang Qu, Beijing Shi, China, 100021]>\n",
      "33\n",
      "<[OK] Arcgis - Geocode [北京市西城区阜成门外大街乙22号]>\n",
      "<[OK] Google - Reverse [Fu Cheng Men Wai Da Jie Fu Lu, FuChengMen, Xicheng Qu, Beijing Shi, China, 100037]>\n",
      "34\n",
      "<[ERROR - URL Connection] Arcgis - Geocode>\n",
      "<[ZERO_RESULTS] Google - Reverse>\n"
     ]
    },
    {
     "ename": "TypeError",
     "evalue": "cannot concatenate 'str' and 'NoneType' objects",
     "output_type": "error",
     "traceback": [
      "\u001b[1;31m---------------------------------------------------------------------------\u001b[0m",
      "\u001b[1;31mTypeError\u001b[0m                                 Traceback (most recent call last)",
      "\u001b[1;32m<ipython-input-4-19df0cadd58a>\u001b[0m in \u001b[0;36m<module>\u001b[1;34m()\u001b[0m\n\u001b[0;32m     16\u001b[0m                        \u001b[0mcity\u001b[0m \u001b[1;33m+\u001b[0m \u001b[1;34m' '\u001b[0m \u001b[1;33m+\u001b[0m\u001b[1;33m\u001b[0m\u001b[0m\n\u001b[0;32m     17\u001b[0m                        \u001b[0mstate\u001b[0m  \u001b[1;33m+\u001b[0m \u001b[1;34m'       '\u001b[0m \u001b[1;33m+\u001b[0m\u001b[1;33m\u001b[0m\u001b[0m\n\u001b[1;32m---> 18\u001b[1;33m                        str(postal) + '\\n')\n\u001b[0m\u001b[0;32m     19\u001b[0m     \u001b[1;32mif\u001b[0m \u001b[0maddress\u001b[0m \u001b[1;33m==\u001b[0m \u001b[1;34m''\u001b[0m\u001b[1;33m:\u001b[0m\u001b[1;33m\u001b[0m\u001b[0m\n\u001b[0;32m     20\u001b[0m         geo_file.write(str(i) + '\t' + 'NON' + '\t' + \n",
      "\u001b[1;31mTypeError\u001b[0m: cannot concatenate 'str' and 'NoneType' objects"
     ]
    }
   ],
   "source": [
    "for i in xrange(0, len(add_list)):\n",
    "    print i\n",
    "    arcResult = geocoder.arcgis(add_list[i].decode('utf8'))\n",
    "    print arcResult\n",
    "    coordinates = arcResult.latlng\n",
    "    address = arcResult.address\n",
    "    gooResult = geocoder.google(coordinates, method = 'reverse')\n",
    "    print gooResult\n",
    "    city = gooResult.city\n",
    "    postal = gooResult.postal\n",
    "    state = gooResult.state\n",
    "    if arcResult.status == 'OK' and gooResult.status == 'OK':\n",
    "        geo_file.write(str(i) + '\t' + add_list[i].strip('\\n') + '\t' + \n",
    "                       address + '\t' + \n",
    "                       str(coordinates) + '\t' + \n",
    "                       city + '\t' + \n",
    "                       state  + '\t' + \n",
    "                       str(postal) + '\\n')\n",
    "    if arcResult.status != 'OK' or gooResult.status != 'OK':\n",
    "        geo_file.write(str(i) + '\t' + 'NON' + '\t' + \n",
    "                       'NON' + '\t' + \n",
    "                       'NON' + '\t' + \n",
    "                       'NON' + '\t' + \n",
    "                       'NON'  + '\t' + \n",
    "                       'NON' + '\\n')\n",
    "\n",
    "print 'address converting completed'\n",
    "geo_file.close()"
   ]
  },
  {
   "cell_type": "code",
   "execution_count": 41,
   "metadata": {
    "collapsed": false
   },
   "outputs": [
    {
     "name": "stdout",
     "output_type": "stream",
     "text": [
      "[0, 1, 2, 3, 4, 5, 6, 7, 8, 9]\n"
     ]
    }
   ],
   "source": [
    "from ipyparallel import Client\n",
    "c = Client()\n",
    "print c.ids\n",
    "\n",
    "lview = c.load_balanced_view()"
   ]
  },
  {
   "cell_type": "code",
   "execution_count": 42,
   "metadata": {
    "collapsed": true
   },
   "outputs": [],
   "source": [
    "ResultList = []\n",
    "def parCom(i):\n",
    "    import geocoder\n",
    "    add_list = list(open('address'))\n",
    "    print len(add_list)\n",
    "    geo_file = open('geo_file','w')\n",
    "    print i\n",
    "    arcResult = geocoder.arcgis(add_list[i].decode('utf8'))\n",
    "    coordinates = arcResult.latlng\n",
    "    address = arcResult.address\n",
    "    gooResult = geocoder.google(coordinates, method = 'reverse')\n",
    "    city = gooResult.city\n",
    "    postal = gooResult.postal\n",
    "    state = gooResult.state\n",
    "    geo_file.write(str(i) + '\t' + add_list[i].strip('\\n') + '\t' + \n",
    "                   address + '\t' + \n",
    "                   str(coordinates) + '\t' + \n",
    "                   city + '\t' + \n",
    "                   state  + '\t' + \n",
    "                   str(postal) + '\\n')\n",
    "    return 'done!'"
   ]
  },
  {
   "cell_type": "code",
   "execution_count": 43,
   "metadata": {
    "collapsed": false
   },
   "outputs": [
    {
     "ename": "CompositeError",
     "evalue": "one or more exceptions from call to method: parCom\n[3:apply]: TypeError: cannot concatenate 'str' and 'NoneType' objects\n[1:apply]: TypeError: cannot concatenate 'str' and 'NoneType' objects",
     "output_type": "error",
     "traceback": [
      "[3:apply]: ",
      "\u001b[1;31m---------------------------------------------------------------------------\u001b[0m\u001b[1;31mTypeError\u001b[0m                                 Traceback (most recent call last)\u001b[1;32m<string>\u001b[0m in \u001b[0;36m<module>\u001b[1;34m()\u001b[0m",
      "\u001b[1;32m<ipython-input-42-c3e2d6dfb383>\u001b[0m in \u001b[0;36mparCom\u001b[1;34m(i)\u001b[0m",
      "\u001b[1;31mTypeError\u001b[0m: cannot concatenate 'str' and 'NoneType' objects",
      "",
      "[1:apply]: ",
      "\u001b[1;31m---------------------------------------------------------------------------\u001b[0m\u001b[1;31mTypeError\u001b[0m                                 Traceback (most recent call last)\u001b[1;32m<string>\u001b[0m in \u001b[0;36m<module>\u001b[1;34m()\u001b[0m",
      "\u001b[1;32m<ipython-input-42-c3e2d6dfb383>\u001b[0m in \u001b[0;36mparCom\u001b[1;34m(i)\u001b[0m",
      "\u001b[1;31mTypeError\u001b[0m: cannot concatenate 'str' and 'NoneType' objects",
      ""
     ]
    }
   ],
   "source": [
    "res = lview.map_sync(parCom, xrange(20))\n",
    "print list(res)"
   ]
  },
  {
   "cell_type": "code",
   "execution_count": null,
   "metadata": {
    "collapsed": true
   },
   "outputs": [],
   "source": [
    "    geo_file.write(str(i) + '\t' + add_list[i].strip('\\n') + '\t' + \n",
    "                   address + '\t' + \n",
    "                   str(coordinates) + '\t' + \n",
    "                   city + '\t' + \n",
    "                   state  + '\t' + \n",
    "                   str(postal) + '\\n')"
   ]
  },
  {
   "cell_type": "code",
   "execution_count": 101,
   "metadata": {
    "collapsed": false,
    "scrolled": true
   },
   "outputs": [
    {
     "name": "stdout",
     "output_type": "stream",
     "text": [
      "[26.409819, 106.67026]\n",
      "<[OK] Google - Reverse [192 Ming Zhu Da Dao, Huaxi Qu, Guiyang Shi, Guizhou Sheng, China, 550025]>\n",
      "[20.027079, 110.361145]\n",
      "<[OK] Google - Reverse [7 Hai Fu Yi Heng Lu, Meilan Qu, Haikou Shi, Hainan Sheng, China, 570000]>\n",
      "[25.025518, 102.69904]\n",
      "<[OK] Google - Reverse [133 Qi Xiang Lu, Xishan Qu, Kunming Shi, Yunnan Sheng, China, 650034]>\n",
      "[31.366184, 119.865715]\n",
      "<[OK] Google - Reverse [280 Tai Hu Da Dao, Yixing Shi, Wuxi Shi, Jiangsu Sheng, China]>\n",
      "address converting completed\n"
     ]
    }
   ],
   "source": [
    "for i in xrange(0, len(add_list)):\n",
    "    print i\n",
    "    arcResult = geocoder.arcgis(add_list[i].decode('utf8'))\n",
    "    coordinates = arcResult.latlng\n",
    "    address = arcResult.address\n",
    "    gooResult = geocoder.google(coordinates, method = 'reverse')\n",
    "    city = gooResult.city\n",
    "    postal = gooResult.postal\n",
    "    state = gooResult.state\n",
    "    geo_file.write(str(i) + '\t' + add_list[i].strip('\\n') + '\t' + \n",
    "                   address + '\t' + \n",
    "                   str(coordinates) + '\t' + \n",
    "                   city + '\t' + \n",
    "                   state  + '\t' + \n",
    "                   str(postal) + '\\n')\n",
    "\n",
    "print 'address converting completed'\n",
    "geo_file.close()"
   ]
  },
  {
   "cell_type": "markdown",
   "metadata": {},
   "source": [
    "**Bellow are drafts**"
   ]
  },
  {
   "cell_type": "code",
   "execution_count": 2,
   "metadata": {
    "collapsed": true
   },
   "outputs": [],
   "source": [
    "g = geocoder.google([34.3444482806, 105.581170927], method='reverse')"
   ]
  },
  {
   "cell_type": "code",
   "execution_count": null,
   "metadata": {
    "collapsed": true
   },
   "outputs": [],
   "source": []
  },
  {
   "cell_type": "code",
   "execution_count": 3,
   "metadata": {
    "collapsed": false
   },
   "outputs": [
    {
     "name": "stdout",
     "output_type": "stream",
     "text": [
      "<[OK] Google - Reverse [Unnamed Road, Qinzhou Qu, Tianshui Shi, Gansu Sheng, China]>\n"
     ]
    }
   ],
   "source": [
    "print g"
   ]
  },
  {
   "cell_type": "code",
   "execution_count": 6,
   "metadata": {
    "collapsed": false
   },
   "outputs": [
    {
     "name": "stdout",
     "output_type": "stream",
     "text": [
      "Gansu Sheng\n"
     ]
    }
   ],
   "source": [
    "print g.state"
   ]
  },
  {
   "cell_type": "code",
   "execution_count": 5,
   "metadata": {
    "collapsed": false
   },
   "outputs": [],
   "source": [
    "i = \"上海市杨浦区四平路0000号\".decode('utf8')\n",
    "g2 = geocoder.arcgis(i)\n",
    "g1 = geocoder.google(i)"
   ]
  },
  {
   "cell_type": "code",
   "execution_count": 8,
   "metadata": {
    "collapsed": false
   },
   "outputs": [
    {
     "name": "stdout",
     "output_type": "stream",
     "text": [
      "True\n",
      "<[OK] Arcgis - Geocode [上海市杨浦区四平路]>\n"
     ]
    }
   ],
   "source": [
    "print g1.status == 'OK'\n",
    "print g2"
   ]
  },
  {
   "cell_type": "code",
   "execution_count": 76,
   "metadata": {
    "collapsed": false
   },
   "outputs": [
    {
     "data": {
      "text/plain": [
       "u'\\u8d35\\u5dde\\u7701\\u8d35\\u9633\\u5e02\\u82b1\\u6eaa\\u533a'"
      ]
     },
     "execution_count": 76,
     "metadata": {},
     "output_type": "execute_result"
    }
   ],
   "source": [
    "g2.address.decode('utf8')"
   ]
  },
  {
   "cell_type": "code",
   "execution_count": 79,
   "metadata": {
    "collapsed": false
   },
   "outputs": [
    {
     "name": "stdout",
     "output_type": "stream",
     "text": [
      "None\n",
      "\n"
     ]
    }
   ],
   "source": [
    "print g1.postal\n",
    "print g2.postal"
   ]
  },
  {
   "cell_type": "code",
   "execution_count": 53,
   "metadata": {
    "collapsed": false
   },
   "outputs": [
    {
     "name": "stdout",
     "output_type": "stream",
     "text": [
      "Anhui Sheng\n"
     ]
    }
   ],
   "source": [
    "print geocoder.google([31.8591859, 117.2415984], method='reverse').state"
   ]
  },
  {
   "cell_type": "code",
   "execution_count": null,
   "metadata": {
    "collapsed": true
   },
   "outputs": [],
   "source": []
  }
 ],
 "metadata": {
  "kernelspec": {
   "display_name": "Python 2",
   "language": "python",
   "name": "python2"
  },
  "language_info": {
   "codemirror_mode": {
    "name": "ipython",
    "version": 2
   },
   "file_extension": ".py",
   "mimetype": "text/x-python",
   "name": "python",
   "nbconvert_exporter": "python",
   "pygments_lexer": "ipython2",
   "version": "2.7.10"
  }
 },
 "nbformat": 4,
 "nbformat_minor": 0
}
