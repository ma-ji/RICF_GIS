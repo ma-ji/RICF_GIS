{
 "cells": [
  {
   "cell_type": "code",
   "execution_count": 4,
   "metadata": {
    "collapsed": false,
    "scrolled": true
   },
   "outputs": [
    {
     "name": "stdout",
     "output_type": "stream",
     "text": [
      "3344\n",
      "2490\n",
      "<[OK] Google - Geocode [Kaili, Qiandongnan, Guizhou, China]>\n",
      "<[OK] Google - Reverse [Kai Feng Er Lu, Kaili Shi, Qiandongnan Miaozudongzuzizhizhou, Guizhou Sheng, China]>\n",
      "2766\n",
      "<[OK] Google - Geocode [Chengmai Culture Radio & Tv Chuban Bureau Of Sports, Wen Hua Bei Lu, Chengmai Xian, Hainan Sheng, China]>\n",
      "<[OK] Google - Reverse [46 Wen Hua Bei Lu, Chengmai Xian, Hainan Sheng, China]>\n",
      "2811\n",
      "<[OK] Google - Geocode [Hubei, China]>\n",
      "<[OK] Google - Reverse [7 Hong Shan Lu, Wuchang Qu, Wuhan Shi, Hubei Sheng, China, 430073]>\n",
      "2873\n",
      "<[OK] Google - Geocode [Hainan, China]>\n",
      "<[OK] Google - Reverse [9 Guo Xing Da Dao, Meilan Qu, Haikou Shi, Hainan Sheng, China, 570000]>\n",
      "2874\n",
      "<[OK] Google - Geocode [Hainan, China]>\n",
      "<[OK] Google - Reverse [9 Guo Xing Da Dao, Meilan Qu, Haikou Shi, Hainan Sheng, China, 570000]>\n",
      "2879\n",
      "<[OK] Google - Geocode [Bei Qing Lu, Changping Qu, Beijing Shi, China]>\n",
      "<[OK] Google - Reverse [5 Bei Qing Lu, Changping Qu, Beijing Shi, China, 102206]>\n",
      "2913\n",
      "<[OK] Google - Geocode [Bijiediqu Radio and Television University, Gui Hua Lu, Bi Jie Shi, Qixingguan Qu, Bijie Shi, Guizhou Sheng, China, 551700]>\n",
      "<[OK] Google - Reverse [8 Gui Hua Lu, Qixingguan Qu, Bijie Shi, Guizhou Sheng, China, 551700]>\n",
      "2914\n",
      "<[OK] Google - Geocode [Xiang Yang Lu, Xingyi Shi, Qianxinan Buyizumiaozuzizhizhou, Guizhou Sheng, China, 562400]>\n",
      "<[OK] Google - Reverse [Xiang Yang Lu, Xingyi Shi, Qianxinan Buyizumiaozuzizhizhou, Guizhou Sheng, China, 562400]>\n",
      "2934\n",
      "<[OK] Google - Geocode [Hainan, China]>\n",
      "<[OK] Google - Reverse [9 Guo Xing Da Dao, Meilan Qu, Haikou Shi, Hainan Sheng, China, 570000]>\n",
      "3040\n",
      "<[OK] Google - Geocode [Lanping, Nujiang, Yunnan, China]>\n",
      "<[OK] Google - Reverse [2 Ren Min Lu, Lanping Baizupumizuzizhixian, Nujiang Lisuzuzizhizhou, Yunnan Sheng, China, 671400]>\n",
      "3164\n",
      "<[OK] Google - Geocode [CPC Science Park Community Party Branch, Yang Jia Ping Lu, Jishou Shi, Xiangxi Tujiazumiaozuzizhizhou, Hunan Sheng, China, 416000]>\n",
      "<[OK] Google - Reverse [Yang Jia Ping Lu, Jishou Shi, Xiangxi Tujiazumiaozuzizhizhou, Hunan Sheng, China]>\n",
      "3187\n",
      "<[OK] Google - Geocode [Jishou, Xiangxi, Hunan, China]>\n",
      "<[OK] Google - Reverse [103 Xiang Dao, Jishou Shi, Xiangxi Tujiazumiaozuzizhizhou, Hunan Sheng, China, 416000]>\n",
      "3188\n",
      "<[OK] Google - Geocode [1 Na Da Mu Da Jie, Xilinhaote Shi, Xilinguole Meng, Neimenggu Zizhiqu, China]>\n",
      "<[OK] Google - Reverse [1 Na Da Mu Da Jie, Xilinhaote Shi, Xilinguole Meng, Neimenggu Zizhiqu, China]>\n",
      "3205\n",
      "<[OK] Google - Geocode [Hainan, China]>\n",
      "<[OK] Google - Reverse [9 Guo Xing Da Dao, Meilan Qu, Haikou Shi, Hainan Sheng, China, 570000]>\n",
      "address converting completed\n"
     ]
    }
   ],
   "source": [
    "# coding: utf-8\n",
    "\n",
    "import geocoder\n",
    "add_list = list(open('address'))\n",
    "print len(add_list)\n",
    "\n",
    "geo_file = open('geo_file-left','w')\n",
    "geo_file.write('LineID' + '\t' + 'OrignalAddress' + '\t' + 'NewAddress' + '\t' + 'Coordinates' + '\t' + 'City' + '\t' + 'State' + '\t' + 'Postal' + '\\n')\n",
    "\n",
    "LeftIDList = list(open('Left LineID', 'r'))\n",
    "\n",
    "for i in LeftIDList:\n",
    "    i = int(i.strip())\n",
    "    print i\n",
    "    gooGeoResult = geocoder.google(add_list[i].decode('utf8'))\n",
    "    print gooGeoResult\n",
    "    coordinates = gooGeoResult.latlng\n",
    "    address = gooGeoResult.address\n",
    "    gooReverse = geocoder.google(coordinates, method = 'reverse')\n",
    "    print gooReverse\n",
    "    city = gooReverse.city\n",
    "    postal = gooReverse.postal\n",
    "    state = gooReverse.state\n",
    "    if gooGeoResult.status == 'OK' and gooReverse.status == 'OK':\n",
    "        geo_file.write(str(i) + '\t' + add_list[i].strip('\\n') + '\t' + \n",
    "                       str(address) + '\t' + \n",
    "                       str(coordinates) + '\t' + \n",
    "                       str(city) + '\t' + \n",
    "                       str(state)  + '\t' + \n",
    "                       str(postal) + '\\n')\n",
    "    if gooGeoResult.status != 'OK' or gooReverse.status != 'OK':\n",
    "        geo_file.write(str(i) + '\t' + add_list[i].strip('\\n') + '\t' + \n",
    "                       'NON' + '\t' + \n",
    "                       'NON' + '\t' + \n",
    "                       'NON' + '\t' + \n",
    "                       'NON'  + '\t' + \n",
    "                       'NON' + '\\n')\n",
    "\n",
    "print 'address converting completed'\n",
    "geo_file.close()\n"
   ]
  },
  {
   "cell_type": "code",
   "execution_count": null,
   "metadata": {
    "collapsed": true
   },
   "outputs": [],
   "source": []
  }
 ],
 "metadata": {
  "kernelspec": {
   "display_name": "Python 2",
   "language": "python",
   "name": "python2"
  },
  "language_info": {
   "codemirror_mode": {
    "name": "ipython",
    "version": 2
   },
   "file_extension": ".py",
   "mimetype": "text/x-python",
   "name": "python",
   "nbconvert_exporter": "python",
   "pygments_lexer": "ipython2",
   "version": "2.7.10"
  }
 },
 "nbformat": 4,
 "nbformat_minor": 0
}
