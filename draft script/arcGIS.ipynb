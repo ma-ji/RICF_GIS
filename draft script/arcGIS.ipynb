{
 "cells": [
  {
   "cell_type": "code",
   "execution_count": 2,
   "metadata": {
    "collapsed": false
   },
   "outputs": [
    {
     "name": "stdout",
     "output_type": "stream",
     "text": [
      "3344\n"
     ]
    }
   ],
   "source": [
    "import geocoder\n",
    "add_list = list(open('address'))\n",
    "print len(add_list)\n",
    "\n",
    "geo_file = open('geo_file','w')\n",
    "geo_file.write('LineID' + '\t' + 'OrignalAddress' + '\t' + 'NewAddress' + '\t' + 'Coordinates' + '\t' + 'City' + '\t' + 'State' + '\t' + 'Postal' + '\\n')"
   ]
  },
  {
   "cell_type": "code",
   "execution_count": 9,
   "metadata": {
    "collapsed": false,
    "scrolled": true
   },
   "outputs": [
    {
     "name": "stdout",
     "output_type": "stream",
     "text": [
      "0\n",
      "<[OK] Arcgis - Geocode [北京市朝阳区朝阳门外大街新6号]>\n",
      "<[OK] Google - Reverse [Jin Tong Xi Lu, GuoMao, Chaoyang Qu, Beijing Shi, China, 100020]>\n",
      "1\n",
      "<[OK] Arcgis - Geocode [北京市海淀区颐和园路5号北京大学镜春园75号北京大学教育基金会]>\n",
      "<[OK] Google - Reverse [Jing Chun Lu, Haidian Qu, Beijing Shi, China, 100871]>\n",
      "2\n",
      "<[ERROR - URL Connection] Arcgis - Geocode>\n",
      "<[ZERO_RESULTS] Google - Reverse>\n",
      "3\n",
      "<[OK] Arcgis - Geocode [北京市海淀区上园村3号北京交通大学积秀园]>\n",
      "<[OK] Google - Reverse [15 Gao Liang Qiao Xie Jie, BeiXiaGuan, Haidian Qu, Beijing Shi, China]>\n",
      "4\n",
      "<[OK] Arcgis - Geocode [北京市海淀区中关村南大街5号]>\n",
      "<[OK] Google - Reverse [Xiao Yuan Zhong Lu, Haidian Qu, Beijing Shi, China, 100081]>\n",
      "5\n",
      "<[OK] Arcgis - Geocode [北京市海淀区中关村北一条15号]>\n",
      "<[OK] Google - Reverse [15 Zhong Guan Cun Bei Yi Tiao, Haidian Qu, Beijing Shi, China, 100190]>\n",
      "6\n",
      "<[OK] Arcgis - Geocode [北京市朝阳区定福庄东街定福庄东街]>\n",
      "<[OK] Google - Reverse [Jian Guo Lu, Chaoyang Qu, Beijing Shi, China, 100024]>\n",
      "7\n",
      "<[OK] Arcgis - Geocode [北京市西城区西长安街乙86号]>\n",
      "<[OK] Google - Reverse [64 Xi Chang An Jie, Xicheng Qu, Beijing Shi, China, 100031]>\n",
      "8\n",
      "<[OK] Arcgis - Geocode [北京市东城区东长安街12号]>\n",
      "<[OK] Google - Reverse [12 Dong Chang An Jie, DongDan, Dongcheng Qu, Beijing Shi, China, 100006]>\n",
      "9\n",
      "<[OK] Arcgis - Geocode [北京市东城区朝阳门北大街1号新保利大厦]>\n",
      "<[OK] Google - Reverse [Dong Men Cang Hu Tong, Dongcheng Qu, Beijing Shi, China, 100027]>\n",
      "10\n",
      "<[OK] Arcgis - Geocode [北京市东城区西总布胡同13号]>\n",
      "<[OK] Google - Reverse [13 Xi Zong Bu Hu Tong, DongDan, Dongcheng Qu, Beijing Shi, China, 100005]>\n",
      "11\n"
     ]
    },
    {
     "ename": "SystemExit",
     "evalue": "",
     "output_type": "error",
     "traceback": [
      "An exception has occurred, use %tb to see the full traceback.\n",
      "\u001b[1;31mSystemExit\u001b[0m\n"
     ]
    },
    {
     "name": "stderr",
     "output_type": "stream",
     "text": [
      "To exit: use 'exit', 'quit', or Ctrl-D.\n"
     ]
    }
   ],
   "source": [
    "for i in xrange(0, len(add_list)):\n",
    "    print i\n",
    "    arcResult = geocoder.arcgis(add_list[i].decode('utf8'))\n",
    "    print arcResult\n",
    "    coordinates = arcResult.latlng\n",
    "    address = arcResult.address\n",
    "    gooResult = geocoder.google(coordinates, method = 'reverse')\n",
    "    print gooResult\n",
    "    city = gooResult.city\n",
    "    postal = gooResult.postal\n",
    "    state = gooResult.state\n",
    "    if arcResult.status == 'OK' and gooResult.status == 'OK':\n",
    "        geo_file.write(str(i) + '\t' + add_list[i].strip('\\n') + '\t' + \n",
    "                       address + '\t' + \n",
    "                       str(coordinates) + '\t' + \n",
    "                       city + '\t' + \n",
    "                       state  + '\t' + \n",
    "                       str(postal) + '\\n')\n",
    "    if arcResult.status != 'OK' or gooResult.status != 'OK':\n",
    "        geo_file.write(str(i) + '\t' + 'NON' + '\t' + \n",
    "                       'NON' + '\t' + \n",
    "                       'NON' + '\t' + \n",
    "                       'NON' + '\t' + \n",
    "                       'NON'  + '\t' + \n",
    "                       'NON' + '\\n')\n",
    "\n",
    "print 'address converting completed'\n",
    "geo_file.close()"
   ]
  },
  {
   "cell_type": "code",
   "execution_count": 10,
   "metadata": {
    "collapsed": true
   },
   "outputs": [],
   "source": [
    "geo_file.close()"
   ]
  },
  {
   "cell_type": "code",
   "execution_count": 41,
   "metadata": {
    "collapsed": false
   },
   "outputs": [
    {
     "name": "stdout",
     "output_type": "stream",
     "text": [
      "[0, 1, 2, 3, 4, 5, 6, 7, 8, 9]\n"
     ]
    }
   ],
   "source": [
    "from ipyparallel import Client\n",
    "c = Client()\n",
    "print c.ids\n",
    "\n",
    "lview = c.load_balanced_view()"
   ]
  },
  {
   "cell_type": "code",
   "execution_count": 42,
   "metadata": {
    "collapsed": true
   },
   "outputs": [],
   "source": [
    "ResultList = []\n",
    "def parCom(i):\n",
    "    import geocoder\n",
    "    add_list = list(open('address'))\n",
    "    print len(add_list)\n",
    "    geo_file = open('geo_file','w')\n",
    "    print i\n",
    "    arcResult = geocoder.arcgis(add_list[i].decode('utf8'))\n",
    "    coordinates = arcResult.latlng\n",
    "    address = arcResult.address\n",
    "    gooResult = geocoder.google(coordinates, method = 'reverse')\n",
    "    city = gooResult.city\n",
    "    postal = gooResult.postal\n",
    "    state = gooResult.state\n",
    "    geo_file.write(str(i) + '\t' + add_list[i].strip('\\n') + '\t' + \n",
    "                   address + '\t' + \n",
    "                   str(coordinates) + '\t' + \n",
    "                   city + '\t' + \n",
    "                   state  + '\t' + \n",
    "                   str(postal) + '\\n')\n",
    "    return 'done!'"
   ]
  },
  {
   "cell_type": "code",
   "execution_count": 43,
   "metadata": {
    "collapsed": false
   },
   "outputs": [
    {
     "ename": "CompositeError",
     "evalue": "one or more exceptions from call to method: parCom\n[3:apply]: TypeError: cannot concatenate 'str' and 'NoneType' objects\n[1:apply]: TypeError: cannot concatenate 'str' and 'NoneType' objects",
     "output_type": "error",
     "traceback": [
      "[3:apply]: ",
      "\u001b[1;31m---------------------------------------------------------------------------\u001b[0m\u001b[1;31mTypeError\u001b[0m                                 Traceback (most recent call last)\u001b[1;32m<string>\u001b[0m in \u001b[0;36m<module>\u001b[1;34m()\u001b[0m",
      "\u001b[1;32m<ipython-input-42-c3e2d6dfb383>\u001b[0m in \u001b[0;36mparCom\u001b[1;34m(i)\u001b[0m",
      "\u001b[1;31mTypeError\u001b[0m: cannot concatenate 'str' and 'NoneType' objects",
      "",
      "[1:apply]: ",
      "\u001b[1;31m---------------------------------------------------------------------------\u001b[0m\u001b[1;31mTypeError\u001b[0m                                 Traceback (most recent call last)\u001b[1;32m<string>\u001b[0m in \u001b[0;36m<module>\u001b[1;34m()\u001b[0m",
      "\u001b[1;32m<ipython-input-42-c3e2d6dfb383>\u001b[0m in \u001b[0;36mparCom\u001b[1;34m(i)\u001b[0m",
      "\u001b[1;31mTypeError\u001b[0m: cannot concatenate 'str' and 'NoneType' objects",
      ""
     ]
    }
   ],
   "source": [
    "res = lview.map_sync(parCom, xrange(20))\n",
    "print list(res)"
   ]
  },
  {
   "cell_type": "code",
   "execution_count": null,
   "metadata": {
    "collapsed": true
   },
   "outputs": [],
   "source": [
    "    geo_file.write(str(i) + '\t' + add_list[i].strip('\\n') + '\t' + \n",
    "                   address + '\t' + \n",
    "                   str(coordinates) + '\t' + \n",
    "                   city + '\t' + \n",
    "                   state  + '\t' + \n",
    "                   str(postal) + '\\n')"
   ]
  },
  {
   "cell_type": "code",
   "execution_count": 101,
   "metadata": {
    "collapsed": false,
    "scrolled": true
   },
   "outputs": [
    {
     "name": "stdout",
     "output_type": "stream",
     "text": [
      "[26.409819, 106.67026]\n",
      "<[OK] Google - Reverse [192 Ming Zhu Da Dao, Huaxi Qu, Guiyang Shi, Guizhou Sheng, China, 550025]>\n",
      "[20.027079, 110.361145]\n",
      "<[OK] Google - Reverse [7 Hai Fu Yi Heng Lu, Meilan Qu, Haikou Shi, Hainan Sheng, China, 570000]>\n",
      "[25.025518, 102.69904]\n",
      "<[OK] Google - Reverse [133 Qi Xiang Lu, Xishan Qu, Kunming Shi, Yunnan Sheng, China, 650034]>\n",
      "[31.366184, 119.865715]\n",
      "<[OK] Google - Reverse [280 Tai Hu Da Dao, Yixing Shi, Wuxi Shi, Jiangsu Sheng, China]>\n",
      "address converting completed\n"
     ]
    }
   ],
   "source": [
    "for i in xrange(0, len(add_list)):\n",
    "    print i\n",
    "    arcResult = geocoder.arcgis(add_list[i].decode('utf8'))\n",
    "    coordinates = arcResult.latlng\n",
    "    address = arcResult.address\n",
    "    gooResult = geocoder.google(coordinates, method = 'reverse')\n",
    "    city = gooResult.city\n",
    "    postal = gooResult.postal\n",
    "    state = gooResult.state\n",
    "    geo_file.write(str(i) + '\t' + add_list[i].strip('\\n') + '\t' + \n",
    "                   address + '\t' + \n",
    "                   str(coordinates) + '\t' + \n",
    "                   city + '\t' + \n",
    "                   state  + '\t' + \n",
    "                   str(postal) + '\\n')\n",
    "\n",
    "print 'address converting completed'\n",
    "geo_file.close()"
   ]
  },
  {
   "cell_type": "markdown",
   "metadata": {},
   "source": [
    "**Bellow are drafts**"
   ]
  },
  {
   "cell_type": "code",
   "execution_count": 2,
   "metadata": {
    "collapsed": true
   },
   "outputs": [],
   "source": [
    "g = geocoder.google([34.3444482806, 105.581170927], method='reverse')"
   ]
  },
  {
   "cell_type": "code",
   "execution_count": null,
   "metadata": {
    "collapsed": true
   },
   "outputs": [],
   "source": []
  },
  {
   "cell_type": "code",
   "execution_count": 3,
   "metadata": {
    "collapsed": false
   },
   "outputs": [
    {
     "name": "stdout",
     "output_type": "stream",
     "text": [
      "<[OK] Google - Reverse [Unnamed Road, Qinzhou Qu, Tianshui Shi, Gansu Sheng, China]>\n"
     ]
    }
   ],
   "source": [
    "print g"
   ]
  },
  {
   "cell_type": "code",
   "execution_count": 6,
   "metadata": {
    "collapsed": false
   },
   "outputs": [
    {
     "name": "stdout",
     "output_type": "stream",
     "text": [
      "Gansu Sheng\n"
     ]
    }
   ],
   "source": [
    "print g.state"
   ]
  },
  {
   "cell_type": "code",
   "execution_count": 7,
   "metadata": {
    "collapsed": false
   },
   "outputs": [],
   "source": [
    "import geocoder\n",
    "\n",
    "i = \"上海市杨浦区四平路0200号\".decode('utf8')\n",
    "g2 = geocoder.arcgis(i)\n",
    "g1 = geocoder.google(i)"
   ]
  },
  {
   "cell_type": "code",
   "execution_count": 12,
   "metadata": {
    "collapsed": false
   },
   "outputs": [
    {
     "name": "stdout",
     "output_type": "stream",
     "text": [
      "{'status': 'OK', 'city': 'Shanghai', 'confidence': 7, 'ok': True, 'encoding': 'utf-8', 'country': 'CN', 'provider': 'google', 'location': u'\\u4e0a\\u6d77\\u5e02\\u6768\\u6d66\\u533a\\u56db\\u5e73\\u8def0200\\u53f7', 'state': 'Shanghai Shi', 'street': 'Si Ping Lu', 'bbox': {'northeast': [31.2995771, 121.5156605], 'southwest': [31.2749104, 121.49912]}, 'status_code': 200, 'address': 'Si Ping Lu, Yangpu Qu, Shanghai Shi, China', 'lat': 31.2867585, 'lng': 121.5086414, 'quality': u'route', 'sublocality': 'Yangpu Qu', 'accuracy': 'GEOMETRIC_CENTER'}\n",
      "{'status': 'OK', 'confidence': 9, 'ok': True, 'encoding': 'utf-8', 'status_code': 200, 'provider': 'arcgis', 'score': 100, 'bbox': {'northeast': [31.287852, 121.5021], 'southwest': [31.285852, 121.50009999999999]}, 'address': '\\xe4\\xb8\\x8a\\xe6\\xb5\\xb7\\xe5\\xb8\\x82\\xe6\\x9d\\xa8\\xe6\\xb5\\xa6\\xe5\\x8c\\xba\\xe5\\x9b\\x9b\\xe5\\xb9\\xb3\\xe8\\xb7\\xaf61\\xe5\\x8f\\xb7', 'lat': 31.286852, 'lng': 121.5011, 'quality': 'StreetName', 'location': u'\\u4e0a\\u6d77\\u5e02\\u6768\\u6d66\\u533a\\u56db\\u5e73\\u8def0200\\u53f7'}\n"
     ]
    }
   ],
   "source": [
    "print g1.json\n",
    "print g2.json"
   ]
  },
  {
   "cell_type": "code",
   "execution_count": 76,
   "metadata": {
    "collapsed": false
   },
   "outputs": [
    {
     "data": {
      "text/plain": [
       "u'\\u8d35\\u5dde\\u7701\\u8d35\\u9633\\u5e02\\u82b1\\u6eaa\\u533a'"
      ]
     },
     "execution_count": 76,
     "metadata": {},
     "output_type": "execute_result"
    }
   ],
   "source": [
    "g2.address.decode('utf8')"
   ]
  },
  {
   "cell_type": "code",
   "execution_count": 79,
   "metadata": {
    "collapsed": false
   },
   "outputs": [
    {
     "name": "stdout",
     "output_type": "stream",
     "text": [
      "None\n",
      "\n"
     ]
    }
   ],
   "source": [
    "print g1.postal\n",
    "print g2.postal"
   ]
  },
  {
   "cell_type": "code",
   "execution_count": 10,
   "metadata": {
    "collapsed": false
   },
   "outputs": [
    {
     "name": "stdout",
     "output_type": "stream",
     "text": [
      "{'status': 'OK', 'city': 'Hefei Shi', 'confidence': 9, 'ok': True, 'encoding': 'utf-8', 'country': 'CN', 'provider': 'google', 'location': '31.8591859, 117.2415984', 'state': 'Anhui Sheng', 'street': 'Qing Yang Lu', 'bbox': {'northeast': [31.8605349302915, 117.2429473302915], 'southwest': [31.8578369697085, 117.2402493697085]}, 'status_code': 200, 'address': 'Qing Yang Lu, Shushan Qu, Hefei Shi, Anhui Sheng, China, 230041', 'lat': 31.8591859, 'lng': 117.2415984, 'postal': '230041', 'quality': u'route', 'sublocality': 'Shushan Qu', 'accuracy': 'GEOMETRIC_CENTER'}\n"
     ]
    }
   ],
   "source": [
    "print geocoder.google([31.8591859, 117.2415984], method='reverse').json"
   ]
  },
  {
   "cell_type": "code",
   "execution_count": null,
   "metadata": {
    "collapsed": true
   },
   "outputs": [],
   "source": []
  }
 ],
 "metadata": {
  "kernelspec": {
   "display_name": "Python 2",
   "language": "python",
   "name": "python2"
  },
  "language_info": {
   "codemirror_mode": {
    "name": "ipython",
    "version": 2
   },
   "file_extension": ".py",
   "mimetype": "text/x-python",
   "name": "python",
   "nbconvert_exporter": "python",
   "pygments_lexer": "ipython2",
   "version": "2.7.10"
  }
 },
 "nbformat": 4,
 "nbformat_minor": 0
}
